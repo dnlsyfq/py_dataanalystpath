{
 "cells": [
  {
   "cell_type": "code",
   "execution_count": 17,
   "metadata": {},
   "outputs": [],
   "source": [
    "import pandas as pd\n",
    "import matplotlib.pyplot as plt\n",
    "import seaborn as sns\n",
    "from matplotlib import pyplot as plt\n",
    "import pandas as pd"
   ]
  },
  {
   "cell_type": "code",
   "execution_count": 18,
   "metadata": {
    "pycharm": {
     "name": "#%%\n"
    }
   },
   "outputs": [
    {
     "data": {
      "text/plain": "           city        education  age\n0  Brooklyn, NY          college   31\n1  Brooklyn, NY  graduate degree   31\n2  Brooklyn, NY  graduate degree   32\n3  Brooklyn, NY          college   37\n4  Brooklyn, NY          college   21",
      "text/html": "<div>\n<style scoped>\n    .dataframe tbody tr th:only-of-type {\n        vertical-align: middle;\n    }\n\n    .dataframe tbody tr th {\n        vertical-align: top;\n    }\n\n    .dataframe thead th {\n        text-align: right;\n    }\n</style>\n<table border=\"1\" class=\"dataframe\">\n  <thead>\n    <tr style=\"text-align: right;\">\n      <th></th>\n      <th>city</th>\n      <th>education</th>\n      <th>age</th>\n    </tr>\n  </thead>\n  <tbody>\n    <tr>\n      <th>0</th>\n      <td>Brooklyn, NY</td>\n      <td>college</td>\n      <td>31</td>\n    </tr>\n    <tr>\n      <th>1</th>\n      <td>Brooklyn, NY</td>\n      <td>graduate degree</td>\n      <td>31</td>\n    </tr>\n    <tr>\n      <th>2</th>\n      <td>Brooklyn, NY</td>\n      <td>graduate degree</td>\n      <td>32</td>\n    </tr>\n    <tr>\n      <th>3</th>\n      <td>Brooklyn, NY</td>\n      <td>college</td>\n      <td>37</td>\n    </tr>\n    <tr>\n      <th>4</th>\n      <td>Brooklyn, NY</td>\n      <td>college</td>\n      <td>21</td>\n    </tr>\n  </tbody>\n</table>\n</div>"
     },
     "execution_count": 18,
     "metadata": {},
     "output_type": "execute_result"
    }
   ],
   "source": [
    "df_user = pd.read_csv('user_data.csv')\n",
    "df_user.head()"
   ]
  },
  {
   "cell_type": "code",
   "execution_count": 18,
   "metadata": {
    "pycharm": {
     "name": "#%%\n"
    }
   },
   "outputs": [],
   "source": []
  },
  {
   "cell_type": "code",
   "execution_count": 19,
   "metadata": {
    "pycharm": {
     "name": "#%%\n"
    }
   },
   "outputs": [
    {
     "data": {
      "text/plain": "                 city  population_proper\n0   Prairie Ridge, WA                NaN\n1          Edison, WA                NaN\n2        Packwood, WA                NaN\n3  Wautauga Beach, WA                NaN\n4          Harper, WA                NaN",
      "text/html": "<div>\n<style scoped>\n    .dataframe tbody tr th:only-of-type {\n        vertical-align: middle;\n    }\n\n    .dataframe tbody tr th {\n        vertical-align: top;\n    }\n\n    .dataframe thead th {\n        text-align: right;\n    }\n</style>\n<table border=\"1\" class=\"dataframe\">\n  <thead>\n    <tr style=\"text-align: right;\">\n      <th></th>\n      <th>city</th>\n      <th>population_proper</th>\n    </tr>\n  </thead>\n  <tbody>\n    <tr>\n      <th>0</th>\n      <td>Prairie Ridge, WA</td>\n      <td>NaN</td>\n    </tr>\n    <tr>\n      <th>1</th>\n      <td>Edison, WA</td>\n      <td>NaN</td>\n    </tr>\n    <tr>\n      <th>2</th>\n      <td>Packwood, WA</td>\n      <td>NaN</td>\n    </tr>\n    <tr>\n      <th>3</th>\n      <td>Wautauga Beach, WA</td>\n      <td>NaN</td>\n    </tr>\n    <tr>\n      <th>4</th>\n      <td>Harper, WA</td>\n      <td>NaN</td>\n    </tr>\n  </tbody>\n</table>\n</div>"
     },
     "execution_count": 19,
     "metadata": {},
     "output_type": "execute_result"
    }
   ],
   "source": [
    "df_pop = pd.read_csv('pop2_data.csv')\n",
    "df_pop.head()"
   ]
  },
  {
   "cell_type": "code",
   "execution_count": 20,
   "metadata": {
    "pycharm": {
     "name": "#%%\n"
    }
   },
   "outputs": [],
   "source": [
    "# df_user.info()\n",
    "# len(df_user)"
   ]
  },
  {
   "cell_type": "code",
   "execution_count": 21,
   "metadata": {
    "pycharm": {
     "name": "#%%\n"
    }
   },
   "outputs": [],
   "source": [
    "# df_pop.info()\n",
    "# len(df_pop)"
   ]
  },
  {
   "cell_type": "code",
   "execution_count": 22,
   "metadata": {
    "pycharm": {
     "name": "#%%\n"
    }
   },
   "outputs": [],
   "source": [
    "df = pd.merge(df_user,df_pop)"
   ]
  },
  {
   "cell_type": "code",
   "execution_count": 22,
   "metadata": {
    "pycharm": {
     "name": "#%%\n"
    }
   },
   "outputs": [],
   "source": []
  },
  {
   "cell_type": "code",
   "execution_count": 23,
   "metadata": {
    "pycharm": {
     "name": "#%%\n"
    }
   },
   "outputs": [],
   "source": [
    "# df.loc[df.population_proper < 100000, \"location\"] = \"rural\"\n",
    "# df.loc[df.population_proper >= 100000, \"location\"] = \"urban\"\n",
    "\n",
    "df['location'] = df['population_proper'].apply(\n",
    "    lambda x: 'urban' if x >= 100000 else 'rural'\n",
    ")"
   ]
  },
  {
   "cell_type": "code",
   "execution_count": 24,
   "metadata": {
    "pycharm": {
     "name": "#%%\n"
    }
   },
   "outputs": [
    {
     "data": {
      "text/plain": "             city        education  age  population_proper location\n0    Brooklyn, NY          college   31          2629150.0    urban\n1    Brooklyn, NY  graduate degree   31          2629150.0    urban\n2    Brooklyn, NY  graduate degree   32          2629150.0    urban\n3    Brooklyn, NY          college   37          2629150.0    urban\n4    Brooklyn, NY          college   21          2629150.0    urban\n5      Austin, TX          college   25           947890.0    urban\n6      Austin, TX  graduate degree   22           947890.0    urban\n7     Oakland, CA  graduate degree   29           420005.0    urban\n8  Pittsburgh, PA          college   29           303625.0    urban\n9  Pittsburgh, PA          college   27           303625.0    urban",
      "text/html": "<div>\n<style scoped>\n    .dataframe tbody tr th:only-of-type {\n        vertical-align: middle;\n    }\n\n    .dataframe tbody tr th {\n        vertical-align: top;\n    }\n\n    .dataframe thead th {\n        text-align: right;\n    }\n</style>\n<table border=\"1\" class=\"dataframe\">\n  <thead>\n    <tr style=\"text-align: right;\">\n      <th></th>\n      <th>city</th>\n      <th>education</th>\n      <th>age</th>\n      <th>population_proper</th>\n      <th>location</th>\n    </tr>\n  </thead>\n  <tbody>\n    <tr>\n      <th>0</th>\n      <td>Brooklyn, NY</td>\n      <td>college</td>\n      <td>31</td>\n      <td>2629150.0</td>\n      <td>urban</td>\n    </tr>\n    <tr>\n      <th>1</th>\n      <td>Brooklyn, NY</td>\n      <td>graduate degree</td>\n      <td>31</td>\n      <td>2629150.0</td>\n      <td>urban</td>\n    </tr>\n    <tr>\n      <th>2</th>\n      <td>Brooklyn, NY</td>\n      <td>graduate degree</td>\n      <td>32</td>\n      <td>2629150.0</td>\n      <td>urban</td>\n    </tr>\n    <tr>\n      <th>3</th>\n      <td>Brooklyn, NY</td>\n      <td>college</td>\n      <td>37</td>\n      <td>2629150.0</td>\n      <td>urban</td>\n    </tr>\n    <tr>\n      <th>4</th>\n      <td>Brooklyn, NY</td>\n      <td>college</td>\n      <td>21</td>\n      <td>2629150.0</td>\n      <td>urban</td>\n    </tr>\n    <tr>\n      <th>5</th>\n      <td>Austin, TX</td>\n      <td>college</td>\n      <td>25</td>\n      <td>947890.0</td>\n      <td>urban</td>\n    </tr>\n    <tr>\n      <th>6</th>\n      <td>Austin, TX</td>\n      <td>graduate degree</td>\n      <td>22</td>\n      <td>947890.0</td>\n      <td>urban</td>\n    </tr>\n    <tr>\n      <th>7</th>\n      <td>Oakland, CA</td>\n      <td>graduate degree</td>\n      <td>29</td>\n      <td>420005.0</td>\n      <td>urban</td>\n    </tr>\n    <tr>\n      <th>8</th>\n      <td>Pittsburgh, PA</td>\n      <td>college</td>\n      <td>29</td>\n      <td>303625.0</td>\n      <td>urban</td>\n    </tr>\n    <tr>\n      <th>9</th>\n      <td>Pittsburgh, PA</td>\n      <td>college</td>\n      <td>27</td>\n      <td>303625.0</td>\n      <td>urban</td>\n    </tr>\n  </tbody>\n</table>\n</div>"
     },
     "execution_count": 24,
     "metadata": {},
     "output_type": "execute_result"
    }
   ],
   "source": [
    "df.head(10)"
   ]
  },
  {
   "cell_type": "code",
   "execution_count": 25,
   "metadata": {},
   "outputs": [],
   "source": [
    "# df.groupby(['age','education']).education.count().sort_values(ascending=False)"
   ]
  },
  {
   "cell_type": "code",
   "execution_count": 26,
   "metadata": {},
   "outputs": [
    {
     "data": {
      "text/plain": "city\nBoston, MA          14\nPhiladelphia, PA    13\nLos Angeles, CA      9\nBaltimore, MD        9\nNew York, NY         8\nName: age, dtype: int64"
     },
     "execution_count": 26,
     "metadata": {},
     "output_type": "execute_result"
    }
   ],
   "source": [
    "df.groupby('city').age.count().sort_values(ascending=False).head(5)"
   ]
  },
  {
   "cell_type": "code",
   "execution_count": 27,
   "metadata": {},
   "outputs": [
    {
     "data": {
      "text/plain": "city               education      \nPhiladelphia, PA   graduate degree    11\nBoston, MA         college             8\nChicago, IL        graduate degree     7\nBoston, MA         graduate degree     6\nLos Angeles, CA    graduate degree     6\n                                      ..\nNashville, TN      graduate degree     1\nNew York, NY       high school         1\nOakland, CA        graduate degree     1\nOklahoma City, OK  college             1\nAlbany, NY         graduate degree     1\nName: education, Length: 100, dtype: int64"
     },
     "execution_count": 27,
     "metadata": {},
     "output_type": "execute_result"
    }
   ],
   "source": [
    "df.groupby(['city','education']).education.count().sort_values(ascending=False)"
   ]
  },
  {
   "cell_type": "code",
   "execution_count": 28,
   "metadata": {},
   "outputs": [],
   "source": [
    "dfg = df.groupby(['city','education'])\\\n",
    ".education\\\n",
    ".count()\\\n",
    ".sort_values(ascending=False)\\\n",
    ".sort_index(level=['city','education'],ascending=[True,True])"
   ]
  },
  {
   "cell_type": "code",
   "execution_count": 29,
   "metadata": {},
   "outputs": [
    {
     "data": {
      "text/plain": "city        education      \nBoston, MA  college            8\n            graduate degree    6\nName: education, dtype: int64"
     },
     "execution_count": 29,
     "metadata": {},
     "output_type": "execute_result"
    }
   ],
   "source": [
    "dfg.filter(like='Boston',axis=0)"
   ]
  },
  {
   "cell_type": "code",
   "execution_count": 30,
   "metadata": {},
   "outputs": [
    {
     "data": {
      "text/plain": "urban    174\nrural      8\nName: location, dtype: int64"
     },
     "execution_count": 30,
     "metadata": {},
     "output_type": "execute_result"
    }
   ],
   "source": [
    "df['location'].value_counts()"
   ]
  },
  {
   "cell_type": "code",
   "execution_count": 31,
   "metadata": {},
   "outputs": [
    {
     "data": {
      "text/plain": "31    18\n34    13\n21    11\n22    11\n37    11\n32    11\n29    11\n28    11\n24    10\n33    10\n36     9\n35     9\n27     9\n23     8\n26     8\n25     8\n30     7\n38     5\n44     1\n45     1\nName: age, dtype: int64"
     },
     "execution_count": 31,
     "metadata": {},
     "output_type": "execute_result"
    }
   ],
   "source": [
    "df['age'].value_counts()"
   ]
  },
  {
   "cell_type": "code",
   "execution_count": 32,
   "metadata": {},
   "outputs": [
    {
     "data": {
      "text/plain": "           city        education  age  population_proper location\n0  Brooklyn, NY          college   31          2629150.0    urban\n1  Brooklyn, NY  graduate degree   31          2629150.0    urban\n2  Brooklyn, NY  graduate degree   32          2629150.0    urban\n3  Brooklyn, NY          college   37          2629150.0    urban\n4  Brooklyn, NY          college   21          2629150.0    urban",
      "text/html": "<div>\n<style scoped>\n    .dataframe tbody tr th:only-of-type {\n        vertical-align: middle;\n    }\n\n    .dataframe tbody tr th {\n        vertical-align: top;\n    }\n\n    .dataframe thead th {\n        text-align: right;\n    }\n</style>\n<table border=\"1\" class=\"dataframe\">\n  <thead>\n    <tr style=\"text-align: right;\">\n      <th></th>\n      <th>city</th>\n      <th>education</th>\n      <th>age</th>\n      <th>population_proper</th>\n      <th>location</th>\n    </tr>\n  </thead>\n  <tbody>\n    <tr>\n      <th>0</th>\n      <td>Brooklyn, NY</td>\n      <td>college</td>\n      <td>31</td>\n      <td>2629150.0</td>\n      <td>urban</td>\n    </tr>\n    <tr>\n      <th>1</th>\n      <td>Brooklyn, NY</td>\n      <td>graduate degree</td>\n      <td>31</td>\n      <td>2629150.0</td>\n      <td>urban</td>\n    </tr>\n    <tr>\n      <th>2</th>\n      <td>Brooklyn, NY</td>\n      <td>graduate degree</td>\n      <td>32</td>\n      <td>2629150.0</td>\n      <td>urban</td>\n    </tr>\n    <tr>\n      <th>3</th>\n      <td>Brooklyn, NY</td>\n      <td>college</td>\n      <td>37</td>\n      <td>2629150.0</td>\n      <td>urban</td>\n    </tr>\n    <tr>\n      <th>4</th>\n      <td>Brooklyn, NY</td>\n      <td>college</td>\n      <td>21</td>\n      <td>2629150.0</td>\n      <td>urban</td>\n    </tr>\n  </tbody>\n</table>\n</div>"
     },
     "execution_count": 32,
     "metadata": {},
     "output_type": "execute_result"
    }
   ],
   "source": [
    "df.head()"
   ]
  },
  {
   "cell_type": "code",
   "execution_count": 37,
   "metadata": {},
   "outputs": [],
   "source": [
    "data = [\n",
    "    ['first_name',\t'last_name',\t'gender'\t,'age'\t,'visit_date'\t,'website_goal'],\n",
    "    ['James'\t,'Mcguire'\t,'male'\t,50.0\t,'2017-10-26',\t'Find a job'],\n",
    "    ['John'\t,'Vaughan'\t,'male'\t,35.0\t,'2017-11-09','Pay a bill'],\n",
    "    ['Robert'\t,'Dillon'\t,'male'\t,33.0\t,'2017-11-28','Pay a bill'],\n",
    "    ['Michael'\t,'Cameron'\t,'male'\t,40.0\t,'2017-09-27','When is trash day?'],\n",
    "    ['William',\t'Yang'\t,'male'\t,38.0\t,'2017-11-01','Contact City Council']\n",
    "]"
   ]
  },
  {
   "cell_type": "code",
   "execution_count": 39,
   "metadata": {},
   "outputs": [],
   "source": [
    "df = pd.DataFrame(data[1:],columns=data[0])"
   ]
  },
  {
   "cell_type": "code",
   "execution_count": 43,
   "outputs": [
    {
     "data": {
      "text/plain": "[<matplotlib.lines.Line2D at 0x20dce667248>]"
     },
     "execution_count": 43,
     "metadata": {},
     "output_type": "execute_result"
    },
    {
     "data": {
      "text/plain": "<Figure size 432x288 with 1 Axes>",
      "image/png": "[encoded data removed]"
     },
     "metadata": {
      "needs_background": "light"
     },
     "output_type": "display_data"
    }
   ],
   "source": [
    "by_day = df.groupby('visit_date').first_name.count()\n",
    "plt.plot(by_day.values)"
   ],
   "metadata": {
    "collapsed": false,
    "pycharm": {
     "name": "#%%\n"
    }
   }
  },
  {
   "cell_type": "code",
   "execution_count": 53,
   "outputs": [
    {
     "data": {
      "text/plain": "Text(0.5, 0, \"Index(['2017-09-27'], dtype='object', name='visit_date')\")"
     },
     "execution_count": 53,
     "metadata": {},
     "output_type": "execute_result"
    },
    {
     "data": {
      "text/plain": "<Figure size 1152x288 with 1 Axes>",
      "image/png": "[encoded data removed]"
     },
     "metadata": {
      "needs_background": "light"
     },
     "output_type": "display_data"
    }
   ],
   "source": [
    "plt.figure(figsize=(16,4))\n",
    "ax = plt.subplot()\n",
    "plt.plot(\n",
    "    by_day.values,\n",
    "    marker=\"o\",\n",
    "    markersize=8,\n",
    "    linewidth=3\n",
    ")\n",
    "plt.ylabel('No. of visitors')\n",
    "ax.set_xticks(range(len(by_day))[::8])\n",
    "ax.set_xlabel(by_day.index[::8],rotation=45)"
   ],
   "metadata": {
    "collapsed": false,
    "pycharm": {
     "name": "#%%\n"
    }
   }
  },
  {
   "cell_type": "code",
   "execution_count": 54,
   "outputs": [
    {
     "data": {
      "text/plain": "(array([1., 1., 1., 0., 1., 0., 0., 0., 0., 1.]),\n array([33. , 34.7, 36.4, 38.1, 39.8, 41.5, 43.2, 44.9, 46.6, 48.3, 50. ]),\n <BarContainer object of 10 artists>)"
     },
     "execution_count": 54,
     "metadata": {},
     "output_type": "execute_result"
    },
    {
     "data": {
      "text/plain": "<Figure size 432x288 with 1 Axes>",
      "image/png": "[encoded data removed]"
     },
     "metadata": {
      "needs_background": "light"
     },
     "output_type": "display_data"
    }
   ],
   "source": [
    "plt.hist(df['age'])"
   ],
   "metadata": {
    "collapsed": false,
    "pycharm": {
     "name": "#%%\n"
    }
   }
  },
  {
   "cell_type": "code",
   "execution_count": 57,
   "outputs": [],
   "source": [
    "survey_result = df.groupby('website_goal').first_name.count()"
   ],
   "metadata": {
    "collapsed": false,
    "pycharm": {
     "name": "#%%\n"
    }
   }
  },
  {
   "cell_type": "code",
   "execution_count": 58,
   "outputs": [
    {
     "data": {
      "text/plain": "([<matplotlib.patches.Wedge at 0x20dd3825188>,\n  <matplotlib.patches.Wedge at 0x20dd3822048>,\n  <matplotlib.patches.Wedge at 0x20dd3859708>,\n  <matplotlib.patches.Wedge at 0x20dd37eba48>],\n [Text(0.8899186877588753, 0.6465637858537406, 'Contact City Council'),\n  Text(-0.3399187231970732, 1.046162158377023, 'Find a job'),\n  Text(-0.8899186574910393, -0.6465638275138399, 'Pay a bill'),\n  Text(0.8899187482945414, -0.6465637025335375, 'When is trash day?')])"
     },
     "execution_count": 58,
     "metadata": {},
     "output_type": "execute_result"
    },
    {
     "data": {
      "text/plain": "<Figure size 432x288 with 1 Axes>",
      "image/png": "[encoded data removed]"
     },
     "metadata": {},
     "output_type": "display_data"
    }
   ],
   "source": [
    "plt.pie(survey_result.values,labels=survey_result.index)"
   ],
   "metadata": {
    "collapsed": false,
    "pycharm": {
     "name": "#%%\n"
    }
   }
  },
  {
   "cell_type": "code",
   "execution_count": 59,
   "outputs": [
    {
     "name": "stdout",
     "output_type": "stream",
     "text": [
      "Significant!\n"
     ]
    }
   ],
   "source": [
    "# Load modules\n",
    "from scipy.stats import chi2_contingency\n",
    "\n",
    "# Record Data from Google Analytics\n",
    "control_group = 7700\n",
    "variant_group = 7700\n",
    "control_success = 231\n",
    "variant_success = 308\n",
    "control_fail = control_group - control_success\n",
    "variant_fail = variant_group - variant_success\n",
    "\n",
    "# Perform Chi2 Test\n",
    "results = chi2_contingency([\n",
    "  [control_fail, control_success],\n",
    "  [variant_fail, variant_success]\n",
    "])\n",
    "\n",
    "p = results[1]\n",
    "\n",
    "# Paste Code Here:\n",
    "if p < 0.05:\n",
    "    print(\"Significant!\")\n",
    "if p > 0.05:\n",
    "    print(\"Not significant!\")"
   ],
   "metadata": {
    "collapsed": false,
    "pycharm": {
     "name": "#%%\n"
    }
   }
  },
  {
   "cell_type": "code",
   "execution_count": null,
   "outputs": [],
   "source": [],
   "metadata": {
    "collapsed": false,
    "pycharm": {
     "name": "#%%\n"
    }
   }
  }
 ],
 "metadata": {
  "kernelspec": {
   "display_name": "Python 3",
   "language": "python",
   "name": "python3"
  },
  "language_info": {
   "codemirror_mode": {
    "name": "ipython",
    "version": 3
   },
   "file_extension": ".py",
   "mimetype": "text/x-python",
   "name": "python",
   "nbconvert_exporter": "python",
   "pygments_lexer": "ipython3",
   "version": "3.7.5"
  }
 },
 "nbformat": 4,
 "nbformat_minor": 1
}